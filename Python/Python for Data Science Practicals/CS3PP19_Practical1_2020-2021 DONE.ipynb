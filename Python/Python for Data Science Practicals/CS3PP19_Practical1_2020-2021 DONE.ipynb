{
 "cells": [
  {
   "cell_type": "markdown",
   "metadata": {
    "id": "gTUI3-fFRa9m"
   },
   "source": [
    "# CS3PP19 - Programming in Python for Data Science - Practical 1\n",
    "\n",
    "## Data Types and Operators"
   ]
  },
  {
   "cell_type": "markdown",
   "metadata": {
    "id": "cngtidv1Ra9n"
   },
   "source": [
    "Follow the instructions to complete each of these tasks, and use the testing code cells to check your answers. This set of exercises focuses on writing basic Python code, specificaly python data types and operators.\n",
    "\n",
    "The relevant materials for these exercises is Lecture2-DataTypes-ComparisonOperators-FlowControl.\n",
    "\n",
    "This is not assessed but will help you gain practical experience for the exam and coursework.\n",
    "\n",
    "*Feel free to work on them in any order, and focus on the ones you find most challening or interesting!*"
   ]
  },
  {
   "cell_type": "markdown",
   "metadata": {
    "id": "Sz89TP29Ra9o"
   },
   "source": [
    "### A Classic or Cliche?\n",
    "\n",
    "Print Hello World!"
   ]
  },
  {
   "cell_type": "code",
   "execution_count": 1,
   "metadata": {
    "id": "0Lxy3162Ra9o"
   },
   "outputs": [
    {
     "data": {
      "text/plain": [
       "'Hello World!'"
      ]
     },
     "execution_count": 1,
     "metadata": {},
     "output_type": "execute_result"
    }
   ],
   "source": [
    "'Hello World!'"
   ]
  },
  {
   "cell_type": "markdown",
   "metadata": {
    "id": "R41gkq86Ra9s"
   },
   "source": [
    "### Variables\n",
    "\n",
    "In python there is no need to declare a type.\n",
    "\n",
    "Create the following variables:\n",
    "    - Name\n",
    "    - Age\n",
    "\n",
    "Use your own name and age and then print both."
   ]
  },
  {
   "cell_type": "code",
   "execution_count": 2,
   "metadata": {
    "id": "MXZVe5g1Ra9s"
   },
   "outputs": [
    {
     "name": "stdout",
     "output_type": "stream",
     "text": [
      "Hello, my name is Shavin and I am 22 years old.\n"
     ]
    }
   ],
   "source": [
    "name = 'Shavin'\n",
    "age = '22'\n",
    "\n",
    "print('Hello, my name is ' + name + ' and I am ' + age + ' years old.')"
   ]
  },
  {
   "cell_type": "markdown",
   "metadata": {
    "id": "VHP2EdGLRa9v"
   },
   "source": [
    "## Array Types in Python\n",
    "\n",
    "- Lists\n",
    "- Tuple\n",
    "- Set\n",
    "- Dictionary\n",
    "\n",
    "### Lists\n",
    "\n",
    "Lists are declared using [] and they are both ordered and changeable.\n",
    "\n",
    "1.1 Declare a list called modules of the modules you are studing this year and print them."
   ]
  },
  {
   "cell_type": "code",
   "execution_count": 5,
   "metadata": {
    "id": "z6E-bJV7Ra9v"
   },
   "outputs": [
    {
     "name": "stdout",
     "output_type": "stream",
     "text": [
      "['AI', 'Data Science', 'Distributed Systems & Parallel Computing', 'Image Analysis', 'Individual Project', 'Programming in Python', 'VR', 'Social, Legal & Ethical points Computing', 'Visual Intelligence']\n"
     ]
    }
   ],
   "source": [
    "modules = ['AI', 'Data Science', 'Distributed Systems & Parallel Computing', \n",
    "           'Image Analysis', 'Individual Project', 'Programming in Python', \n",
    "           'VR', 'Social, Legal & Ethical points Computing', 'Visual Intelligence']\n",
    "print(modules)"
   ]
  },
  {
   "cell_type": "markdown",
   "metadata": {
    "id": "ea7Td_huRa9x"
   },
   "source": [
    "#### Accessing lists\n",
    "\n",
    "1.2 Access using the index - print the 3rd module in the list.\n",
    "    * note whether python uses 0 or 1 indexing as a comment.\n",
    "\n"
   ]
  },
  {
   "cell_type": "code",
   "execution_count": 7,
   "metadata": {
    "id": "rXmcVwbkRa9y"
   },
   "outputs": [
    {
     "name": "stdout",
     "output_type": "stream",
     "text": [
      "Distributed Systems & Parallel Computing\n"
     ]
    }
   ],
   "source": [
    "print(modules[2])\n",
    "\n",
    "# Python uses 0 indexing."
   ]
  },
  {
   "cell_type": "markdown",
   "metadata": {
    "id": "k9gOS4WeRa90"
   },
   "source": [
    "1.3 Negative indexing - this allows you to access from the end of the list, print the 3rd from last module in the list."
   ]
  },
  {
   "cell_type": "code",
   "execution_count": 8,
   "metadata": {
    "id": "ZtDxgMj4Ra91"
   },
   "outputs": [
    {
     "name": "stdout",
     "output_type": "stream",
     "text": [
      "VR\n"
     ]
    }
   ],
   "source": [
    "print(modules[-3])"
   ]
  },
  {
   "cell_type": "markdown",
   "metadata": {
    "id": "bXXiUM1JRa93"
   },
   "source": [
    "#### Working with lists\n",
    "\n",
    "1.4 Create a second list called lastyear with the modules you studied last year."
   ]
  },
  {
   "cell_type": "code",
   "execution_count": 9,
   "metadata": {
    "id": "9vIlwToaRa93"
   },
   "outputs": [
    {
     "name": "stdout",
     "output_type": "stream",
     "text": [
      "['Algorithms & OS', 'Compilers', 'Computer Architecture & Networking', 'Databases & Info Sec', 'HCI', 'Java', 'Systems Design', 'SOSA']\n"
     ]
    }
   ],
   "source": [
    "modulesTwo = ['Algorithms & OS', 'Compilers', 'Computer Architecture & Networking', \n",
    "              'Databases & Info Sec', 'HCI', 'Java', 'Systems Design', 'SOSA']\n",
    "print(modulesTwo)"
   ]
  },
  {
   "cell_type": "markdown",
   "metadata": {
    "id": "dQAKK_-sRa96"
   },
   "source": [
    "1.5 Join both lists into one. \n",
    "\n",
    "HINT: there are 3 ways you cold do this..."
   ]
  },
  {
   "cell_type": "code",
   "execution_count": 10,
   "metadata": {
    "id": "7UXf-3XORa96"
   },
   "outputs": [
    {
     "name": "stdout",
     "output_type": "stream",
     "text": [
      "['AI', 'Data Science', 'Distributed Systems & Parallel Computing', 'Image Analysis', 'Individual Project', 'Programming in Python', 'VR', 'Social, Legal & Ethical points Computing', 'Visual Intelligence', 'Algorithms & OS', 'Compilers', 'Computer Architecture & Networking', 'Databases & Info Sec', 'HCI', 'Java', 'Systems Design', 'SOSA']\n"
     ]
    }
   ],
   "source": [
    "print(modules + modulesTwo)"
   ]
  },
  {
   "cell_type": "code",
   "execution_count": 3,
   "metadata": {},
   "outputs": [
    {
     "name": "stdout",
     "output_type": "stream",
     "text": [
      "['AI', 'Data Science', 'Distributed Systems & Parallel Computing', 'Image Analysis', 'Individual Project', 'Programming in Python', 'VR', 'Social, Legal & Ethical points Computing', 'Visual Intelligence', 'Algorithms & OS', 'Compilers', 'Computer Architecture & Networking', 'Databases & Info Sec', 'HCI', 'Java', 'Systems Design', 'SOSA']\n"
     ]
    }
   ],
   "source": [
    "modules = ['AI', 'Data Science', 'Distributed Systems & Parallel Computing', \n",
    "           'Image Analysis', 'Individual Project', 'Programming in Python', \n",
    "           'VR', 'Social, Legal & Ethical points Computing', 'Visual Intelligence']\n",
    "modulesTwo = ['Algorithms & OS', 'Compilers', 'Computer Architecture & Networking', \n",
    "              'Databases & Info Sec', 'HCI', 'Java', 'Systems Design', 'SOSA']\n",
    "\n",
    "for x in modulesTwo:\n",
    "  modules.append(x)\n",
    "\n",
    "print(modules)"
   ]
  },
  {
   "cell_type": "code",
   "execution_count": 10,
   "metadata": {},
   "outputs": [
    {
     "name": "stdout",
     "output_type": "stream",
     "text": [
      "['AI', 'Data Science', 'Distributed Systems & Parallel Computing', 'Image Analysis', 'Individual Project', 'Programming in Python', 'VR', 'Social, Legal & Ethical points Computing', 'Visual Intelligence', 'Algorithms & OS', 'Compilers', 'Computer Architecture & Networking', 'Databases & Info Sec', 'HCI', 'Java', 'Systems Design', 'SOSA']\n"
     ]
    }
   ],
   "source": [
    "modules = ['AI', 'Data Science', 'Distributed Systems & Parallel Computing', \n",
    "           'Image Analysis', 'Individual Project', 'Programming in Python', \n",
    "           'VR', 'Social, Legal & Ethical points Computing', 'Visual Intelligence']\n",
    "modulesTwo = ['Algorithms & OS', 'Compilers', 'Computer Architecture & Networking', \n",
    "              'Databases & Info Sec', 'HCI', 'Java', 'Systems Design', 'SOSA']\n",
    "\n",
    "modules.extend(modulesTwo)\n",
    "print(modules)"
   ]
  },
  {
   "cell_type": "markdown",
   "metadata": {
    "id": "pouqvKphRa98"
   },
   "source": [
    "### Dictionaries\n",
    "\n",
    "Dictionaries are declared using {} and are unordered, changeable and indexed. They contain key and value pairs.\n",
    "\n",
    "2.1 Declare a dictionary called favmod with the information for your favourite module with the following information:\n",
    "    - Name\n",
    "    - Year\n",
    "    - Lecturer\n",
    "\n",
    "Then print the dictionary."
   ]
  },
  {
   "cell_type": "code",
   "execution_count": 1,
   "metadata": {
    "id": "ctRy_YDIRa99"
   },
   "outputs": [
    {
     "name": "stdout",
     "output_type": "stream",
     "text": [
      "{'Name': 'Virtual Reality', 'Year': 'Final Year', 'Lecturer': 'Ritchard Mitchell'}\n"
     ]
    }
   ],
   "source": [
    "favmod = {'Name':'Virtual Reality',\n",
    "          'Year': 'Final Year',\n",
    "          'Lecturer':'Ritchard Mitchell'}\n",
    "print(favmod)"
   ]
  },
  {
   "cell_type": "markdown",
   "metadata": {
    "id": "-D--k8teRa9_"
   },
   "source": [
    "#### Accessing Dictionaries\n",
    "\n",
    "2.2 Get the value for the year of study from the dictionary and print it."
   ]
  },
  {
   "cell_type": "code",
   "execution_count": 2,
   "metadata": {
    "id": "tGtmyNE6Ra9_"
   },
   "outputs": [
    {
     "name": "stdout",
     "output_type": "stream",
     "text": [
      "Final Year\n"
     ]
    }
   ],
   "source": [
    "print(favmod['Year'])"
   ]
  },
  {
   "cell_type": "markdown",
   "metadata": {
    "id": "yXhKAHsFRa-B"
   },
   "source": [
    "#### Nesting Dictionaries\n",
    "\n",
    "2.3 Declare a second dictionary called secmod with your second favourite module details.\n"
   ]
  },
  {
   "cell_type": "code",
   "execution_count": 3,
   "metadata": {
    "id": "S9300xtmRa-C"
   },
   "outputs": [
    {
     "name": "stdout",
     "output_type": "stream",
     "text": [
      "{'Name': 'Python for Data Science', 'Year': 'Final Year', 'Lecturer': 'Miguel Sanchez'}\n"
     ]
    }
   ],
   "source": [
    "secmod = {'Name':'Python for Data Science','Year':'Final Year','Lecturer':'Miguel Sanchez'}\n",
    "print(secmod)"
   ]
  },
  {
   "cell_type": "markdown",
   "metadata": {
    "id": "qxHsHgtfRa-F"
   },
   "source": [
    "2.4 Create a third dictionary containing the two you previously created called rankedmod and print it."
   ]
  },
  {
   "cell_type": "code",
   "execution_count": 5,
   "metadata": {
    "id": "zxcxk4y3Ra-F"
   },
   "outputs": [
    {
     "name": "stdout",
     "output_type": "stream",
     "text": [
      "{'favmod': {'Name': 'Virtual Reality', 'Year': 'Final Year', 'Lecturer': 'Ritchard Mitchell'}, 'secmod': {'Name': 'Python for Data Science', 'Year': 'Final Year', 'Lecturer': 'Miguel Sanchez'}}\n"
     ]
    }
   ],
   "source": [
    "rankedmod = {'favmod': favmod,\n",
    "             'secmod': secmod}\n",
    "\n",
    "print(rankedmod)"
   ]
  },
  {
   "cell_type": "markdown",
   "metadata": {
    "id": "H3_PYC8dRa-H"
   },
   "source": [
    "### IF...ELSE and Loops in Python\n",
    "\n",
    "Python works with indentation rather than brackets to define what is within a IF statement or loop.\n",
    "\n",
    "3.1 Create an if else statement that prints a sentence describing the relationship between the two numbers below (e.g x is greater/smaller than y)."
   ]
  },
  {
   "cell_type": "code",
   "execution_count": 29,
   "metadata": {
    "id": "iCNGHbXGRa-H",
    "scrolled": true
   },
   "outputs": [
    {
     "name": "stdout",
     "output_type": "stream",
     "text": [
      "a is smaller than b\n",
      "x is greater than y\n"
     ]
    }
   ],
   "source": [
    "a = 46\n",
    "b = 99\n",
    "\n",
    "if a < b:\n",
    "    print('a is smaller than b')\n",
    "else:\n",
    "    print('a is greater than b')\n",
    "    \n",
    "x = 75\n",
    "y = 13\n",
    "\n",
    "if x < y:\n",
    "    print('x is smaller than y')\n",
    "else:\n",
    "    print('x is greater than y')"
   ]
  },
  {
   "cell_type": "markdown",
   "metadata": {
    "id": "kK--0ENDRa-J"
   },
   "source": [
    "3.2 Write a loop (for and while) that prints the values in the modules list you created earlier."
   ]
  },
  {
   "cell_type": "code",
   "execution_count": 7,
   "metadata": {},
   "outputs": [
    {
     "name": "stdout",
     "output_type": "stream",
     "text": [
      "AI\n",
      "Data Science\n",
      "Distributed Systems & Parallel Computing\n",
      "Image Analysis\n",
      "Individual Project\n",
      "Programming in Python\n",
      "VR\n",
      "Social, Legal & Ethical points Computing\n",
      "Visual Intelligence\n",
      "Algorithms & OS\n",
      "Compilers\n",
      "Computer Architecture & Networking\n",
      "Databases & Info Sec\n",
      "HCI\n",
      "Java\n",
      "Systems Design\n",
      "SOSA\n"
     ]
    }
   ],
   "source": [
    "modules = ['AI', 'Data Science', 'Distributed Systems & Parallel Computing', \n",
    "           'Image Analysis', 'Individual Project', 'Programming in Python', \n",
    "           'VR', 'Social, Legal & Ethical points Computing', 'Visual Intelligence']\n",
    "modulesTwo = ['Algorithms & OS', 'Compilers', 'Computer Architecture & Networking', \n",
    "              'Databases & Info Sec', 'HCI', 'Java', 'Systems Design', 'SOSA']\n",
    "\n",
    "modules.extend(modulesTwo)\n",
    "\n",
    "for a in modules:\n",
    "    print(a)"
   ]
  },
  {
   "cell_type": "markdown",
   "metadata": {
    "id": "7Lsl4simRa-K"
   },
   "source": [
    "# Operators\n",
    "\n",
    "Arithmetic operators in python should be familiar, however logic operators are a little different...\n",
    "in Python the words AND, OR and NOT are used as logic operators!\n",
    "\n",
    "4.1 Create and if statement whith multiple conditions using the variables a and b from above and c and d provided below."
   ]
  },
  {
   "cell_type": "code",
   "execution_count": 6,
   "metadata": {
    "id": "DQmbm7XbRa-K"
   },
   "outputs": [
    {
     "name": "stdout",
     "output_type": "stream",
     "text": [
      "Both true\n",
      "One is true\n",
      "False\n"
     ]
    }
   ],
   "source": [
    "a = 46\n",
    "b = 99\n",
    "c = 100\n",
    "d = 6\n",
    "\n",
    "if a < b and c > d:\n",
    "    print('Both true')\n",
    "else:\n",
    "    print('False')\n",
    "    \n",
    "if a < c or b < d:\n",
    "    print('One is true')\n",
    "else:\n",
    "    print('False')\n",
    "    \n",
    "if not a == 46:\n",
    "     print('True')\n",
    "else:\n",
    "     print('False')"
   ]
  },
  {
   "cell_type": "markdown",
   "metadata": {
    "id": "h4p9FN39RmN7"
   },
   "source": [
    "## Challenge : Odd or Even?\n",
    "\n",
    "Write some code that prints out a different message for each number in the list below depending on whether it is odd or even.\n",
    "\n"
   ]
  },
  {
   "cell_type": "code",
   "execution_count": 8,
   "metadata": {
    "id": "uJmpqnfRS0w_"
   },
   "outputs": [
    {
     "name": "stdout",
     "output_type": "stream",
     "text": [
      "2 is Even number\n",
      "5 is Odd number\n",
      "76 is Even number\n",
      "89 is Odd number\n",
      "77 is Odd number\n",
      "103 is Odd number\n",
      "24 is Even number\n",
      "65 is Odd number\n",
      "66 is Even number\n",
      "12 is Even number\n",
      "1 is Odd number\n",
      "0 is Even number\n",
      "19 is Odd number\n"
     ]
    }
   ],
   "source": [
    "challenge = [2,5,76,89,77,103,24,65,66,12,1,0,19]\n",
    "\n",
    "for x in challenge:\n",
    "    if (x % 2) == 0:\n",
    "         print(\"{0} is Even number\".format(x))  \n",
    "    else:\n",
    "         print(\"{0} is Odd number\".format(x))  \n"
   ]
  },
  {
   "cell_type": "code",
   "execution_count": null,
   "metadata": {},
   "outputs": [],
   "source": []
  }
 ],
 "metadata": {
  "colab": {
   "collapsed_sections": [],
   "name": "Lab 1 Data Types and Operators .ipynb",
   "provenance": []
  },
  "kernelspec": {
   "display_name": "Python 3",
   "language": "python",
   "name": "python3"
  },
  "language_info": {
   "codemirror_mode": {
    "name": "ipython",
    "version": 3
   },
   "file_extension": ".py",
   "mimetype": "text/x-python",
   "name": "python",
   "nbconvert_exporter": "python",
   "pygments_lexer": "ipython3",
   "version": "3.8.8"
  }
 },
 "nbformat": 4,
 "nbformat_minor": 1
}
