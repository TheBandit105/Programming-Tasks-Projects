{
 "cells": [
  {
   "cell_type": "markdown",
   "metadata": {
    "id": "7c3ZagWDHs7O"
   },
   "source": [
    "# Python & Data Science Practical Exercises 3\n",
    "\n",
    "## Functional Programming\n"
   ]
  },
  {
   "cell_type": "markdown",
   "metadata": {
    "id": "BWkg9IpbHs7S"
   },
   "source": [
    "Follow the instructions to complete each of these tasks, and use the testing code cells to check your answers. This set of exercises focuses on writing functional programming in Python.\n",
    "\n",
    "**Questions marked with a * are extra challenging**\n",
    "\n",
    "The relevant materials for these exercises are lectures 7 and 8.\n",
    "\n",
    "This is not assessed but will help you gain practical experience for the exam and coursework.\n"
   ]
  },
  {
   "cell_type": "markdown",
   "metadata": {
    "id": "OSfi2mdzHs7V"
   },
   "source": [
    "## FUNCTIONAL PROGRAMMING\n",
    "\n",
    "### 1. Basic Python and data structures \n",
    "\n",
    "#### 1.1\n",
    "\n",
    "Write a function fib(n) that returns the first n values of the Fibonacci sequence $F$, with $F_1=1$, $F_2=1$, $F_n = F_{n-1} + F_{n-2}$."
   ]
  },
  {
   "cell_type": "code",
   "execution_count": 1,
   "metadata": {
    "id": "Mrb_1uCaHs7h"
   },
   "outputs": [],
   "source": [
    "def fib(n):\n",
    "    # Define first 2 terms\n",
    "    f1 = 0\n",
    "    f2 = 1\n",
    "    c = 0\n",
    "    \n",
    "    # Generate fibonacci sequence\n",
    "    if n == 0:\n",
    "        print('Invalid input, please type a number bigger than 0 and try again.')\n",
    "    else:\n",
    "        print(\"Fibonacci Sequence:\")\n",
    "        while c < n:\n",
    "            print(f1)\n",
    "            fth = f1 + f2\n",
    "            # Update values\n",
    "            f1 = f2\n",
    "            f2 = fth\n",
    "            c += 1\n",
    "\n",
    "        print('\\n\\nFirst ' + str(n) + ' values of the Fibonacci Sequence:')\n",
    "        print(f1)"
   ]
  },
  {
   "cell_type": "code",
   "execution_count": 9,
   "metadata": {
    "colab": {
     "base_uri": "https://localhost:8080/"
    },
    "id": "XkdzdDBtHs7y",
    "outputId": "bbbd3774-79ce-43f0-e5c0-49cf7d16046b"
   },
   "outputs": [
    {
     "name": "stdout",
     "output_type": "stream",
     "text": [
      "Fibonacci Sequence:\n",
      "0\n",
      "1\n",
      "1\n",
      "2\n",
      "3\n",
      "5\n",
      "8\n",
      "13\n",
      "21\n",
      "34\n",
      "55\n",
      "89\n",
      "\n",
      "\n",
      "First 12 values of the Fibonacci Sequence:\n",
      "144\n"
     ]
    }
   ],
   "source": [
    "# Testing\n",
    "fib(12) # Should give 144"
   ]
  },
  {
   "cell_type": "markdown",
   "metadata": {
    "id": "QsPI6VArHs78"
   },
   "source": [
    "#### 1.2\n",
    "\n",
    "Write a function rev(xs) that takes a list as argument and returns the list in reverse, without using the built-in Python reverse() method."
   ]
  },
  {
   "cell_type": "code",
   "execution_count": 17,
   "metadata": {
    "id": "ZVMHJotuHs8A"
   },
   "outputs": [],
   "source": [
    "def rev(listA):\n",
    "    print(listA[::-1])"
   ]
  },
  {
   "cell_type": "code",
   "execution_count": 18,
   "metadata": {
    "colab": {
     "base_uri": "https://localhost:8080/"
    },
    "id": "w3buSlOoHs8O",
    "outputId": "10399abd-bdd6-4486-f13f-84ec1ab33da6"
   },
   "outputs": [
    {
     "name": "stdout",
     "output_type": "stream",
     "text": [
      "[1, 'test', 4, [2, 1]]\n"
     ]
    }
   ],
   "source": [
    "# Testing\n",
    "rev([[2,1],4,\"test\",1]) # Should return [1,\"test\",4,[2,1]]"
   ]
  },
  {
   "cell_type": "markdown",
   "metadata": {
    "id": "AjBSteXmHs8a"
   },
   "source": [
    "#### 1.3\n",
    "\n",
    "Write a function palindrome(s) to determine if a string s is a palindrome (the same backwards as forwards), returning True if it is and False otherwise. The function should ignore capitalisation (you can use the lower() method for strings for this)."
   ]
  },
  {
   "cell_type": "code",
   "execution_count": 22,
   "metadata": {
    "id": "FRtoOhMzHs8c"
   },
   "outputs": [],
   "source": [
    "def palindrome(n):\n",
    "    return str(n) == str(n)[::-1]        "
   ]
  },
  {
   "cell_type": "code",
   "execution_count": 23,
   "metadata": {
    "colab": {
     "base_uri": "https://localhost:8080/"
    },
    "id": "WlH8qes3Hs8n",
    "outputId": "c8a47e66-3d60-4050-d110-ec503bf2c72f"
   },
   "outputs": [
    {
     "name": "stdout",
     "output_type": "stream",
     "text": [
      "True\n",
      "False\n",
      "True\n"
     ]
    }
   ],
   "source": [
    "# Testing\n",
    "print(palindrome(\"Kayak\".lower())) # True\n",
    "print(palindrome(\"Python\".lower())) # False\n",
    "print(palindrome(\"civic\".lower())) # True"
   ]
  },
  {
   "cell_type": "code",
   "execution_count": 24,
   "metadata": {},
   "outputs": [],
   "source": [
    "def palindrome(s):\n",
    "    y=s.lower()\n",
    "    sx=y[::-1]\n",
    "    if y==sx:\n",
    "        return True\n",
    "    else:\n",
    "        return False"
   ]
  },
  {
   "cell_type": "code",
   "execution_count": 25,
   "metadata": {},
   "outputs": [
    {
     "name": "stdout",
     "output_type": "stream",
     "text": [
      "True\n",
      "False\n",
      "True\n"
     ]
    }
   ],
   "source": [
    "# Testing\n",
    "print(palindrome(\"Kayak\")) # True\n",
    "print(palindrome(\"Python\")) # False\n",
    "print(palindrome(\"civic\")) # True"
   ]
  },
  {
   "cell_type": "markdown",
   "metadata": {
    "id": "ZtuBaDsqHs8t"
   },
   "source": [
    "#### 2. Map\n",
    "\n",
    "#### 2.1\n",
    "\n",
    "Use a map to return the largest element of each pair (tuple) in the list below"
   ]
  },
  {
   "cell_type": "code",
   "execution_count": 26,
   "metadata": {
    "id": "-yCykH1zHs8u"
   },
   "outputs": [],
   "source": [
    "a = [(3, 2, 3), (1, 9, 10), (4, 1, 2), (8, 6, 3), (1, 7, 9)]\n",
    "f = lambda x :max"
   ]
  },
  {
   "cell_type": "code",
   "execution_count": 28,
   "metadata": {
    "colab": {
     "base_uri": "https://localhost:8080/"
    },
    "id": "0u1D2-x_Hs82",
    "outputId": "f3600718-059a-4802-8a48-e9e388011875"
   },
   "outputs": [
    {
     "data": {
      "text/plain": [
       "[3, 10, 4, 8, 9]"
      ]
     },
     "execution_count": 28,
     "metadata": {},
     "output_type": "execute_result"
    }
   ],
   "source": [
    "# Testing\n",
    "list(map(max,a)) # [(3, 2, 3), (1, 9, 10), (4, 1, 2), (8, 6, 3), (1, 7, 9)]"
   ]
  },
  {
   "cell_type": "markdown",
   "metadata": {
    "id": "e6CC32ZdHs8-"
   },
   "source": [
    "#### 3. Fold\n",
    "\n",
    "#### 3.1*\n",
    "\n",
    "Write __filter function__ that validates the presence of the __\"@\"__ symbol in a list of emails. Please implement the solution with __anonymous function__."
   ]
  },
  {
   "cell_type": "code",
   "execution_count": 29,
   "metadata": {},
   "outputs": [
    {
     "name": "stdout",
     "output_type": "stream",
     "text": [
      "['lupita@gmail.com', 'pure123@reading.ac.uk']\n"
     ]
    }
   ],
   "source": [
    "def valid_email(email):\n",
    "    if '@' in email:\n",
    "        return email\n",
    "    \n",
    "emlist = ['lupita@gmail.com','chanclaATgmail.om','I lost my email','pure123@reading.ac.uk', 'notanemail']\n",
    "\n",
    "femail_list = filter(valid_email, emlist)\n",
    "print(list(femail_list))"
   ]
  },
  {
   "cell_type": "code",
   "execution_count": 30,
   "metadata": {},
   "outputs": [
    {
     "name": "stdout",
     "output_type": "stream",
     "text": [
      "['lupita@gmail.com', 'pure123@reading.ac.uk']\n"
     ]
    }
   ],
   "source": [
    "## Annonymous function\n",
    "femail_list = filter(lambda x: '@' in  x,emlist) \n",
    "\n",
    "##Email list:\n",
    "emlist = ['lupita@gmail.com','chanclaATgmail.om','I lost my email','pure123@reading.ac.uk', 'notanemail']\n",
    "print(list(femail_list))"
   ]
  },
  {
   "cell_type": "code",
   "execution_count": 74,
   "metadata": {
    "colab": {
     "base_uri": "https://localhost:8080/"
    },
    "id": "CB-W4J4NHs8_",
    "outputId": "27e0e5ee-15f3-41f1-d2f4-7a12713a87ac"
   },
   "outputs": [],
   "source": [
    "##Test with the following list:\n",
    "emlist = ['lupita@gmail.com','chanclaATgmail.om','I lost my email','pure123@reading.ac.uk', 'notanemail'] \n",
    "# Should return ['lupita@gmail.com', 'pure123@reading.ac.uk']"
   ]
  },
  {
   "cell_type": "markdown",
   "metadata": {
    "id": "b5_G_33XHs9V"
   },
   "source": [
    "#### 4. Higher order functions\n",
    "\n",
    "#### 4.1*\n",
    "\n",
    "Write a function power(f,n) that takes a function as an argument, and returns a function that applies f to its input n times\n",
    "\n",
    "E.g. for g=power(f,3), $g(x)=f(f(f(x)))$"
   ]
  },
  {
   "cell_type": "code",
   "execution_count": 32,
   "metadata": {
    "colab": {
     "base_uri": "https://localhost:8080/"
    },
    "id": "CawUIs00Hs9X",
    "outputId": "2c305941-0b99-45ad-ca69-ffb12222b465"
   },
   "outputs": [
    {
     "name": "stdout",
     "output_type": "stream",
     "text": [
      "43046721\n"
     ]
    }
   ],
   "source": [
    "def power (f, x, n) :\n",
    "    for i in range(n):\n",
    "        x = f(x)\n",
    "    return x\n",
    "\n",
    "def square(x):\n",
    "    return pow(x, 2)\n",
    "\n",
    "y = power(square,3, 4)\n",
    "print(y)\n"
   ]
  },
  {
   "cell_type": "markdown",
   "metadata": {
    "id": "ZT3Gmrx4Hs9i"
   },
   "source": [
    "#### 5. List comprehensions\n",
    "\n",
    "#### 5.1\n",
    "\n",
    "Write a list comprehension that will return all possible sets of three values x,y,z, one from each list a,b and c, where x<y<z."
   ]
  },
  {
   "cell_type": "code",
   "execution_count": 33,
   "metadata": {
    "id": "4F8wxSDDHs9l"
   },
   "outputs": [
    {
     "name": "stdout",
     "output_type": "stream",
     "text": [
      "[(2, 3, 5), (2, 3, 9), (2, 6, 9), (2, 4, 5), (2, 4, 9), (4, 6, 9), (5, 6, 9)]\n"
     ]
    }
   ],
   "source": [
    "a = [2,4,5,6,7]\n",
    "b = [3,9,6,4]\n",
    "c = [5,2,9]\n",
    "\n",
    "newlist = [(x, y, z) for x in a for y in b for z in c if x < y < z]\n",
    "print(newlist)\n",
    "\n",
    "# Should give [(2, 3, 5), (2, 3, 9), (2, 6, 9), (2, 4, 5), (2, 4, 9), (4, 6, 9), (5, 6, 9)]"
   ]
  },
  {
   "cell_type": "markdown",
   "metadata": {
    "id": "Qlb9bVVKHs91"
   },
   "source": [
    "#### 5.2\n",
    "\n",
    "Write a list comprehension that returns pairs (x,y) where x is divisble by y for x in the range a and y in the range b."
   ]
  },
  {
   "cell_type": "code",
   "execution_count": 21,
   "metadata": {
    "id": "Ot_mSkHjHs93"
   },
   "outputs": [],
   "source": [
    "a = range(1,22)\n",
    "b = range(1,11)"
   ]
  },
  {
   "cell_type": "code",
   "execution_count": 126,
   "metadata": {
    "colab": {
     "base_uri": "https://localhost:8080/"
    },
    "id": "2R42IRonHs99",
    "outputId": "9230c999-30a2-47b7-d2ca-bf6f35245fcb"
   },
   "outputs": [
    {
     "name": "stdout",
     "output_type": "stream",
     "text": [
      "[(1, 1), (2, 1), (2, 2), (3, 1), (3, 3), (4, 1), (4, 2), (4, 4), (5, 1), (5, 5), (6, 1), (6, 2), (6, 3), (6, 6), (7, 1), (7, 7), (8, 1), (8, 2), (8, 4), (8, 8), (9, 1), (9, 3), (9, 9), (10, 1), (10, 2), (10, 5), (10, 10), (11, 1), (12, 1), (12, 2), (12, 3), (12, 4), (12, 6), (13, 1), (14, 1), (14, 2), (14, 7), (15, 1), (15, 3), (15, 5), (16, 1), (16, 2), (16, 4), (16, 8), (17, 1), (18, 1), (18, 2), (18, 3), (18, 6), (18, 9), (19, 1), (20, 1), (20, 2), (20, 4), (20, 5), (20, 10), (21, 1), (21, 3), (21, 7)]\n"
     ]
    },
    {
     "data": {
      "text/plain": [
       "59"
      ]
     },
     "execution_count": 126,
     "metadata": {},
     "output_type": "execute_result"
    }
   ],
   "source": [
    "z = [(x,y) for x in range(1, 22) for y in range(1, 11) if x%y == 0]\n",
    "print(z)\n",
    "# Output should have 59 elements - test this with len()\n",
    "len(z)"
   ]
  },
  {
   "cell_type": "markdown",
   "metadata": {
    "id": "11Ww8zfKHs-C"
   },
   "source": [
    "#### 6. Generators\n",
    "#### 6.1\n",
    "\n",
    "Write a generator expression g that will generate an infinite sequence of values which are not divisible by 3 or 5. You should use the count function in the itertools module to generate the infinite range. "
   ]
  },
  {
   "cell_type": "code",
   "execution_count": 38,
   "metadata": {
    "id": "YnQjig4QHs-D"
   },
   "outputs": [],
   "source": [
    "import itertools\n",
    "\n",
    "def g(N):\n",
    "    for i in itertools.count(1,1):\n",
    "        if (i%3!=0 and i%5!=0):\n",
    "            yield i"
   ]
  },
  {
   "cell_type": "code",
   "execution_count": 39,
   "metadata": {
    "colab": {
     "base_uri": "https://localhost:8080/"
    },
    "id": "hnr__8332-mg",
    "outputId": "50b13410-912d-4839-8351-5a32e562a67a"
   },
   "outputs": [
    {
     "name": "stdout",
     "output_type": "stream",
     "text": [
      "1\n",
      "2\n",
      "4\n",
      "7\n",
      "8\n",
      "11\n"
     ]
    }
   ],
   "source": [
    "gen=g(5)\n",
    "\n",
    "print(next(gen))\n",
    "print(next(gen))\n",
    "print(next(gen))\n",
    "print(next(gen))\n",
    "print(next(gen))\n",
    "print(next(gen))"
   ]
  },
  {
   "cell_type": "markdown",
   "metadata": {
    "id": "L4OWf38xHs-I"
   },
   "source": [
    "#### 6.2\n",
    "\n",
    "Write a function take(g,n) that takes a generator g as an argument and returns a list containing the first n values of g. Use it to generate the first five values of the generator in the previous question."
   ]
  },
  {
   "cell_type": "code",
   "execution_count": 40,
   "metadata": {
    "id": "S316Ddm5Hs-K"
   },
   "outputs": [],
   "source": [
    "def take(g,n):\n",
    "    return [next(g) for i in range(n)]"
   ]
  },
  {
   "cell_type": "code",
   "execution_count": 41,
   "metadata": {
    "colab": {
     "base_uri": "https://localhost:8080/"
    },
    "id": "VriD4zJ2Hs-P",
    "outputId": "726a68e4-68a1-4e8a-b0c2-a04e8d80d6de"
   },
   "outputs": [
    {
     "data": {
      "text/plain": [
       "[1, 2, 4, 7, 8]"
      ]
     },
     "execution_count": 41,
     "metadata": {},
     "output_type": "execute_result"
    }
   ],
   "source": [
    "# Testing\n",
    "take(g(20),5) # Should give [1,2,4,7,8]"
   ]
  }
 ],
 "metadata": {
  "colab": {
   "name": "Lab 3  Functional Programming and Data Visualisation.ipynb",
   "provenance": []
  },
  "kernelspec": {
   "display_name": "Python 3",
   "language": "python",
   "name": "python3"
  },
  "language_info": {
   "codemirror_mode": {
    "name": "ipython",
    "version": 3
   },
   "file_extension": ".py",
   "mimetype": "text/x-python",
   "name": "python",
   "nbconvert_exporter": "python",
   "pygments_lexer": "ipython3",
   "version": "3.8.8"
  }
 },
 "nbformat": 4,
 "nbformat_minor": 1
}
