{
 "cells": [
  {
   "cell_type": "markdown",
   "metadata": {
    "id": "-Eb4k16xTE10"
   },
   "source": [
    "## Challenges"
   ]
  },
  {
   "cell_type": "markdown",
   "metadata": {},
   "source": [
    "### Are we prepared for the weather?\n",
    "\n",
    "You are considered to be prepared for the weather if:\n",
    "\n",
    "- I have an umbrella...\n",
    "- or if the rain isn't too heavy (below 3) and I have a hood...\n",
    "- otherwise, I'm still fine unless it's raining and it's a workday\n",
    "\n",
    "Write a code that validates your rediness for the climate conditions. It should return True or False."
   ]
  },
  {
   "cell_type": "code",
   "execution_count": 5,
   "metadata": {},
   "outputs": [
    {
     "name": "stdout",
     "output_type": "stream",
     "text": [
      "I am prepared for the weather.\n"
     ]
    }
   ],
   "source": [
    "## Consider the values below to test your solution. \n",
    "##Feel free to change these values in order to test the code to validate it covers all the possible scenarios.\n",
    "\n",
    "have_umbrella = True\n",
    "rain_level = 1.0\n",
    "have_hood = True\n",
    "is_workday = True\n",
    "\n",
    "if (have_umbrella) or (rain_level < 3 and have_hood):\n",
    "    print(\"I am prepared for the weather.\")\n",
    "else:\n",
    "    if (rain_level > 0) and (is_workday):\n",
    "        print(\"I came unprepared for the weather.\")\n",
    "    else:\n",
    "        print(\"I'm still fine\")\n",
    "    \n",
    "\n"
   ]
  },
  {
   "cell_type": "markdown",
   "metadata": {},
   "source": [
    "### Odd or Even?\n",
    "\n",
    "Write some code that prints out a different message for each number in the list below depending on whether it is odd or even.\n"
   ]
  },
  {
   "cell_type": "code",
   "execution_count": 6,
   "metadata": {
    "colab": {
     "base_uri": "https://localhost:8080/",
     "height": 485
    },
    "id": "t-S2_xlLTJrA",
    "outputId": "4915f645-ff9f-4ed7-ef3d-66796ede54a3"
   },
   "outputs": [
    {
     "name": "stdout",
     "output_type": "stream",
     "text": [
      "2 is Even number\n",
      "5 is Odd number\n",
      "76 is Even number\n",
      "89 is Odd number\n",
      "77 is Odd number\n",
      "103 is Odd number\n",
      "24 is Even number\n",
      "65 is Odd number\n",
      "66 is Even number\n",
      "12 is Even number\n",
      "1 is Odd number\n",
      "0 is Even number\n",
      "19 is Odd number\n"
     ]
    }
   ],
   "source": [
    "challenge = [2,5,76,89,77,103,24,65,66,12,1,0,19]\n",
    "\n",
    "for i in challenge:\n",
    "    if(i % 2) == 0:\n",
    "        print(\"{0} is Even number\".format(i))  \n",
    "    else:\n",
    "        print(\"{0} is Odd number\".format(i)) \n",
    "        "
   ]
  },
  {
   "cell_type": "markdown",
   "metadata": {},
   "source": [
    "### Find the hidden message\n",
    "\n",
    "Write a code that can find the hidden message in the text by extracting the uppercase letters.\n",
    "\n",
    "_\"mr. and mrs. dursley, of number four, prIvet drive, were proud to say that they were perfectLy normal, thank you very much. they were the last peOple you’d expect to be involved in anything strange or mysterious, because they just didn’t hold with such nonsense. mr. dursley was the director of a firm called grunnings, which made drills. he was a big, beefy man with hardly any neck, although he did have a Very largE mustache. mrs. dursley was thin and blonde and had nearly twice the usual amount of neck, which came in very useful as she sPent so much of her time craning over garden fences, spYing on THe neighbors. the ursleys had a small sOn called dudley and in their opinion there was No finer boy anywhere.\"_\n",
    "\n",
    "Rowling, J. K. (2014). Harry potter and the philosopher’s stone. Bloomsbury Childrens Books.\n",
    "\n"
   ]
  },
  {
   "cell_type": "code",
   "execution_count": 13,
   "metadata": {},
   "outputs": [
    {
     "data": {
      "text/plain": [
       "'ILOVEPYTHON'"
      ]
     },
     "execution_count": 13,
     "metadata": {},
     "output_type": "execute_result"
    }
   ],
   "source": [
    "message = 'mr. and mrs. dursley, of number four, prIvet drive, were proud to say that they were perfectLy normal, thank you very much. they were the last peOple you’d expect to be involved in anything strange or mysterious, because they just didn’t hold with such nonsense. mr. dursley was the director of a firm called grunnings, which made drills. he was a big, beefy man with hardly any neck, although he did have a Very largE mustache. mrs. dursley was thin and blonde and had nearly twice the usual amount of neck, which came in very useful as she sPent so much of her time craning over garden fences, spYing on THe neighbors. the dursleys had a small sOn called dudley and in their opinion there was No finer boy anywhere.'\n",
    "##Your code:\n",
    "\n",
    "''.join([a for a in message if a.isupper()])"
   ]
  },
  {
   "cell_type": "code",
   "execution_count": 14,
   "metadata": {},
   "outputs": [
    {
     "data": {
      "text/plain": [
       "'ILOVEPYTHON'"
      ]
     },
     "execution_count": 14,
     "metadata": {},
     "output_type": "execute_result"
    }
   ],
   "source": [
    "''.join(a for a in message if a.isupper())"
   ]
  },
  {
   "cell_type": "markdown",
   "metadata": {},
   "source": [
    "### Mario Kart red shell simulator\n",
    "The next exercise will feature a Mario Kart race where a player uses the Red Shell. When used, it hits the competitor in front of the payer who shot it and the places in the leaderboard are switched. Complete the function below to implement the Red Shell's effect. \n",
    "\n",
    "Note: \n",
    "- If the first player shoots the Shell, there will be no changes in the leaderboard.\n",
    "- Remember that the indexes in lists start in 0."
   ]
  },
  {
   "cell_type": "code",
   "execution_count": 1,
   "metadata": {},
   "outputs": [
    {
     "name": "stdout",
     "output_type": "stream",
     "text": [
      "The positions of the race are the following: ['Mario', 'Luigi', 'Peach', 'Daisy', 'Yoshi', 'Toad', 'Toadette', 'Rosalina']\n",
      "The position 2 in the race, Luigi , shoot a Red shell!!!\n",
      "Now the leaderboard is: ['Luigi', 'Mario', 'Peach', 'Daisy', 'Yoshi', 'Toad', 'Toadette', 'Rosalina']\n"
     ]
    }
   ],
   "source": [
    "leaderboard = ['Mario', 'Luigi', 'Peach', 'Daisy', 'Yoshi', 'Toad', 'Toadette', 'Rosalina']\n",
    "##Remember that in lists, the first possition is 0\n",
    "##\n",
    "print('The positions of the race are the following:', leaderboard)\n",
    "\n",
    "##define the position of the player that is going to shoot the shell(1st, 2nd, 3rd place)\n",
    "shooter = 2\n",
    "\n",
    "print('The position',shooter ,'in the race,',leaderboard[shooter -1], ', shoot a Red shell!!!')\n",
    "##Your code:\n",
    "\n",
    "leaderboard[0], leaderboard[shooter -1] = leaderboard[0 + 1], leaderboard[0]\n",
    "\n",
    "print('Now the leaderboard is:', leaderboard)\n"
   ]
  },
  {
   "cell_type": "markdown",
   "metadata": {
    "id": "cIplmV6dwiAa"
   },
   "source": [
    "### Keyword finder\n",
    "You have collected a series of articles and you would like to filter them for the most relevant regarding a particluar word. \n",
    "\n",
    "The code should meet the following criteria:\n",
    "\n",
    "- Do not include documents where the keyword string shows up only as a part of a larger word. For example, if you are looking for the keyword “closed”, you would not include the string “enclosed.”\n",
    "- Not distintion between upper case from lower case letters. Phrases “Closed the case.” would be included when the keyword is “closed”\n",
    "- Periods or commas shouldn't affect what is matched. “It is closed.” or “It is closed,” would be included when the keyword is “closed”. You can assume there are no other types of punctuation.\n",
    "- It should return the amount of times the keyword was found in each article.\n",
    "\n",
    "(https://docs.python.org/3/library/stdtypes.html)"
   ]
  },
  {
   "cell_type": "code",
   "execution_count": 19,
   "metadata": {},
   "outputs": [],
   "source": [
    "##Test your solution considering as an input the list below that contains an extraction of three articles\n",
    "articles = [['An Avro customer in a household using a typical amount of gas and electricity, who got a fixed rate deal in August, would have been paying £1,087 a year, according to price comparison site Uswitch. In March, they could have got a deal costing £920 a year.'],\n",
    "           ['But attention is increasingly falling on those who havent had it. Speculation has centred on which dancers on Strictly Come Dancing have so far not taken up the offer, as well as how many Premier League footballers are potentially unvaccinated.'],\n",
    "           ['Mrs Merkel has been proclaimed by Forbes as the most powerful woman in the world for 10 years running. There is a whole generation in Germany that has never known anything other than a woman leader. Her position has been symbolically important for womens representation, and she is known for bringing women into key positions. For example, she supported Ursula von der Leyen, the first female German defence minister and European Commission president.']]\n",
    "\n"
   ]
  },
  {
   "cell_type": "code",
   "execution_count": 61,
   "metadata": {},
   "outputs": [
    {
     "name": "stdout",
     "output_type": "stream",
     "text": [
      "In article 0 The keyword: avro was found: 1\n",
      "In article 1 The keyword: avro was found: 0\n",
      "In article 2 The keyword: avro was found: 0\n"
     ]
    }
   ],
   "source": [
    "keyword = 'avro'\n",
    "##Your code:\n",
    "\n",
    "a0 = str(articles[0]).lower()\n",
    "a1 = str(articles[1]).lower()\n",
    "a2 = str(articles[2]).lower()\n",
    "\n",
    "print('In article 0 The keyword: ' + keyword + ' was found: ' + str(a0.count(keyword)))\n",
    "print('In article 1 The keyword: ' + keyword + ' was found: ' + str(a1.count(keyword)))\n",
    "print('In article 2 The keyword: ' + keyword + ' was found: ' + str(a2.count(keyword)))\n"
   ]
  },
  {
   "cell_type": "code",
   "execution_count": null,
   "metadata": {},
   "outputs": [],
   "source": []
  },
  {
   "cell_type": "code",
   "execution_count": null,
   "metadata": {},
   "outputs": [],
   "source": []
  }
 ],
 "metadata": {
  "colab": {
   "collapsed_sections": [],
   "name": "SOLUTION Lab 1 Data Types and Operators .ipynb",
   "provenance": []
  },
  "kernelspec": {
   "display_name": "Python 3",
   "language": "python",
   "name": "python3"
  },
  "language_info": {
   "codemirror_mode": {
    "name": "ipython",
    "version": 3
   },
   "file_extension": ".py",
   "mimetype": "text/x-python",
   "name": "python",
   "nbconvert_exporter": "python",
   "pygments_lexer": "ipython3",
   "version": "3.8.8"
  }
 },
 "nbformat": 4,
 "nbformat_minor": 1
}
